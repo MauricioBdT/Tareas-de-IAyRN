{
  "nbformat": 4,
  "nbformat_minor": 0,
  "metadata": {
    "colab": {
      "provenance": []
    },
    "kernelspec": {
      "name": "python3",
      "display_name": "Python 3"
    },
    "language_info": {
      "name": "python"
    }
  },
  "cells": [
    {
      "cell_type": "markdown",
      "source": [
        "# AF2: EJERCICIOS EN PYTHON.\n",
        "\n",
        "Mauricio Briones del Toro - 1918167 - N1"
      ],
      "metadata": {
        "id": "XN8mCLUHiY7Q"
      }
    },
    {
      "cell_type": "code",
      "source": [
        "#1.- Desarrolla un algoritmo que le pida al usuario por su nombre y que lo\n",
        "#salude con su nombre, excepto si se llama “Ana”, “Juan”, y “Pedro”.\n",
        "x = input(\"Escribe tu nombre \") \n",
        "y = [\"Ana\", \"Juan\", \"Pedro\"]\n",
        "if x not in y:\n",
        "  print(f\"Hola {x}, un saludo.\")\n",
        "else :\n",
        "  print(\"No tengo permitido saludarte.\")"
      ],
      "metadata": {
        "colab": {
          "base_uri": "https://localhost:8080/"
        },
        "id": "o1s3dD3rk4JI",
        "outputId": "0e8cf04c-a984-4a5a-dec7-052d83e85103"
      },
      "execution_count": 7,
      "outputs": [
        {
          "output_type": "stream",
          "name": "stdout",
          "text": [
            "Escribe tu nombre Mauricio\n",
            "Hola Mauricio, un saludo.\n"
          ]
        }
      ]
    },
    {
      "cell_type": "code",
      "source": [
        "#1.- Desarrolla un algoritmo que le pida al usuario por su nombre y que lo\n",
        "#salude con su nombre, excepto si se llama “Ana”, “Juan”, y “Pedro”.\n",
        "x = input(\"Escribe tu nombre \") \n",
        "y = [\"Ana\", \"Juan\", \"Pedro\"]\n",
        "if x not in y:\n",
        "  print(f\"Hola {x}, un saludo.\")\n",
        "else :\n",
        "  print(\"No tengo permitido saludarte.\")"
      ],
      "metadata": {
        "colab": {
          "base_uri": "https://localhost:8080/"
        },
        "id": "m9B0s_STp4SR",
        "outputId": "0fb7b350-e60d-469c-bf15-7db75b2111d1"
      },
      "execution_count": 8,
      "outputs": [
        {
          "output_type": "stream",
          "name": "stdout",
          "text": [
            "Escribe tu nombre Ana\n",
            "No tengo permitido saludarte.\n"
          ]
        }
      ]
    },
    {
      "cell_type": "code",
      "source": [
        "#Desarrolla un algoritmo que le pregunte al usuario cuántos números de la serie \n",
        "#de Fibonnaci quiere generar y que al final los imprima.\n",
        "x=0 \n",
        "y=1\n",
        "z=0\n",
        "while True:\n",
        "    n=int(input(\"¿Cuántos números de la seria Fibonacci deseas? \"))\n",
        "    if n>1:\n",
        "        break\n",
        "print(end=\" \")\n",
        "for i in range(0,n):\n",
        "    z=x+y\n",
        "    print(f\"{z}\",end=\" \")\n",
        "    x=y\n",
        "    y=z\n",
        "print(\"\")"
      ],
      "metadata": {
        "colab": {
          "base_uri": "https://localhost:8080/"
        },
        "id": "mhB6DLG1p8j8",
        "outputId": "34319831-e01b-422f-f61b-e55de76dd92c"
      },
      "execution_count": 12,
      "outputs": [
        {
          "output_type": "stream",
          "name": "stdout",
          "text": [
            "¿Cuántos números de la seria Fibonacci deseas? 11\n",
            " 1 2 3 5 8 13 21 34 55 89 144 \n"
          ]
        }
      ]
    }
  ]
}